{
  "nbformat": 4,
  "nbformat_minor": 0,
  "metadata": {
    "colab": {
      "provenance": []
    },
    "kernelspec": {
      "name": "python3",
      "display_name": "Python 3"
    },
    "language_info": {
      "name": "python"
    }
  },
  "cells": [
    {
      "cell_type": "markdown",
      "source": [
        "Qus. What are the five key concepts of Object-Oriented Programming (OOP)?\n",
        "\n",
        "Ans. The five key concepts of object-oriented programming (OOP) are:\n",
        "\n",
        "1. Encapsulation: This involves bundling data and the methods that\n",
        "operate on that data together into a single unit, called an object. Encapsulation promotes data hiding and modularity.\n",
        "2. Inheritance: This allows you to create new classes (derived classes) based on existing classes (base classes). Derived classes inherit the properties and methods of the base class, providing a mechanism for code reuse and creating hierarchies of related objects.\n",
        "3. Polymorphism: This refers to the ability of objects of different types to be treated as if they were of the same type. It allows you to write code that can work with objects of different classes in a uniform way.\n",
        "4. Abstraction: This involves focusing on the essential features of an object while ignoring the unnecessary details. Abstraction helps you create models of real-world entities that are easier to understand and manage.\n",
        "5. Objects: Objects are the fundamental building blocks of OOP. They represent real-world entities or concepts, and each object has its own state (data) and behavior (methods)."
      ],
      "metadata": {
        "id": "Ex65nBuynssa"
      }
    },
    {
      "cell_type": "markdown",
      "source": [
        "Qsn. Write a Python class for a `Car` with attributes for a `make`,`model`,and`year`. Include a method to display  the car's information."
      ],
      "metadata": {
        "id": "VkGtzAtzo5CK"
      }
    },
    {
      "cell_type": "code",
      "execution_count": null,
      "metadata": {
        "id": "KfJ5pbqhnqXL"
      },
      "outputs": [],
      "source": [
        "Ans. class Car:\n",
        "  def __init__(self, make, model, year):\n",
        "    self.make = make\n",
        "    self.model = model\n",
        "    self.year = year\n",
        "\n",
        "  def display_info(self):\n",
        "    print(f\"Make:\n",
        " {self.make}\")\n",
        "    print(f\"Model: {self.model}\")\n",
        "    print(f\"Year: {self.year}\")\n",
        "\n",
        "# Create an instance of the Car class\n",
        "my_car = Car(\"Toyota\", \"Camry\", 2023)\n",
        "\n",
        "# Display the car's information\n",
        "my_car.display_info()"
      ]
    },
    {
      "cell_type": "markdown",
      "source": [
        "Qsn. Explain the difference between instance methods and class methods. Provide an example of each.\n",
        "\n",
        "Ans. Instance Methods:\n",
        "\n",
        "* Belong to individual objects of a class.\n",
        "* Access and modify the object's attributes.\n",
        "* Are called using the dot notation on an object instance.\n",
        "Example:"
      ],
      "metadata": {
        "id": "1femcOCUqocK"
      }
    },
    {
      "cell_type": "code",
      "source": [
        "class Car:\n",
        "    def __init__(self, make, model):\n",
        "        self.make = make\n",
        "        self.model = model\n",
        "\n",
        "    def get_info(self):\n",
        "        return f\"Make: {self.make}, Model: {self.model}\"\n",
        "\n",
        "car1 = Car(\"Toyota\", \"Camry\")\n",
        "print(car1.get_info())  # Output: Make: Toyota, Model: Camry"
      ],
      "metadata": {
        "id": "oFhrTGDcrV9p"
      },
      "execution_count": null,
      "outputs": []
    },
    {
      "cell_type": "markdown",
      "source": [
        "Class Methods:\n",
        "\n",
        "* Belong to the class itself, not to individual objects.\n",
        "* Access and modify class attributes.\n",
        "* Are called using the class name and the dot notation.\n",
        "* Are often used for utility functions or class-related operations.\n",
        "Example:"
      ],
      "metadata": {
        "id": "PBpKkG4UrdH3"
      }
    },
    {
      "cell_type": "code",
      "source": [
        "Class Car:\n",
        "    num_cars = 0\n",
        "\n",
        "    def __init__(self, make, model):\n",
        "        self.make = make\n",
        "        self.model = model\n",
        "        Car.num_cars += 1\n",
        "\n",
        "    @classmethod\n",
        "    def get_num_cars(cls):\n",
        "        return cls.num_cars\n",
        "\n",
        "car1 = Car(\"Toyota\", \"Camry\")\n",
        "car2 = Car(\"Honda\", \"Civic\")\n",
        "\n",
        "print(Car.get_num_cars())  # Output: 2"
      ],
      "metadata": {
        "id": "vyzaq-eCrrAo"
      },
      "execution_count": null,
      "outputs": []
    },
    {
      "cell_type": "markdown",
      "source": [
        "Qus. How does Python implement method overloading? Give Examples.\n",
        "\n",
        "Ans. Python does not support true method overloading. This means that you cannot define multiple methods with the same name and different parameters within the same class.\n",
        "\n",
        "However, Python provides a mechanism called method overriding that can achieve a similar effect. Method overriding occurs when a derived class defines a method with the same name as a method in its base class. When an object of the derived class calls the method, the derived class's version of the method is executed, effectively overriding the base class's version.\n",
        "\n",
        "Example:"
      ],
      "metadata": {
        "id": "jRedoTx7r04o"
      }
    },
    {
      "cell_type": "code",
      "source": [
        "class Animal:\n",
        "    def speak(self):\n",
        "        print(\"Generic animal sound\")\n",
        "\n",
        "class Dog(Animal):\n",
        "    def speak(self):\n",
        "        print(\"Woof!\")\n",
        "\n",
        "class Cat(Animal):\n",
        "    def speak(self):\n",
        "        print(\"Meow!\")\n",
        "\n",
        "dog = Dog()\n",
        "cat = Cat()\n",
        "\n",
        "dog.speak()  # Output: Woof!\n",
        "cat.speak()  # Output:\n",
        " Meow!\n"
      ],
      "metadata": {
        "id": "Pb8M79IgsxoK"
      },
      "execution_count": null,
      "outputs": []
    },
    {
      "cell_type": "markdown",
      "source": [
        "In this example, the Animal class has a speak method that prints a generic sound. The Dog and Cat classes override the speak method to print their respective sounds. When you create an instance of Dog or Cat and call the speak method, the appropriate version is executed based on the object's type.\n",
        "\n",
        "While this is not strictly method overloading, it provides a similar functionality by allowing you to define different behaviors for methods with the same name in different classes."
      ],
      "metadata": {
        "id": "rwcf9bFAs0ll"
      }
    },
    {
      "cell_type": "markdown",
      "source": [
        "Qsn. What are the three types of access modifiers in Python? How are they denoted?\n",
        "\n",
        "Ans. Python has three types of access modifiers:\n",
        "\n",
        "Public: Accessible from anywhere within the class or outside the class. No special keyword is needed to denote public members.\n",
        "Protected: Accessible within the class and its subclasses. Denoted by a single underscore (_) prefix.\n",
        "Private: Accessible only within the class itself. Denoted by a double underscore (__) prefix.\n",
        "\n",
        "Example:"
      ],
      "metadata": {
        "id": "VrWtjq3ys7LO"
      }
    },
    {
      "cell_type": "code",
      "source": [
        "class MyClass:\n",
        "    public_var = 10\n",
        "    _protected_var = 20\n",
        "    __private_var = 30\n",
        "\n",
        "    def public_method(self):\n",
        "        print(\"Public method\")\n",
        "\n",
        "    def _protected_method(self):\n",
        "        print(\"Protected method\")\n",
        "\n",
        "    def __private_method(self):\n",
        "        print(\"Private method\")\n",
        "\n"
      ],
      "metadata": {
        "id": "9PX-Qvy8ters"
      },
      "execution_count": null,
      "outputs": []
    },
    {
      "cell_type": "markdown",
      "source": [
        "In this example:\n",
        "\n",
        "* can be accessed from anywhere.\n",
        "* _protected_var can be accessed within the MyClass and its subclasses.\n",
        "* __private_var can only be accessed within the MyClass.\n",
        "* It's important to note that while Python doesn't strictly enforce private access, it makes it difficult to access private members from outside the class. This convention is often used to indicate that a member is intended for internal use only."
      ],
      "metadata": {
        "id": "kzvYb8optsvL"
      }
    },
    {
      "cell_type": "markdown",
      "source": [
        "Qsn. Describe the five types of inheritance in Python. Provide a simple examples of multiple inheritance.\n",
        "\n",
        "Ans. Five Types of Inheritance in Python\n",
        "Python supports five types of inheritance:\n",
        "\n",
        "* Single Inheritance: A class inherits from a single parent class.\n",
        "* Multiple Inheritance: A class inherits from multiple parent classes.\n",
        "* Multilevel Inheritance: A class inherits from another class that itself inherits from another class.\n",
        "* Hierarchical Inheritance: Multiple classes inherit from a single parent class.\n",
        "* Hybrid Inheritance: A combination of multiple and multilevel inheritance.\n",
        "Example of Multiple Inheritance:"
      ],
      "metadata": {
        "id": "YyMQ3oNEt6hH"
      }
    },
    {
      "cell_type": "code",
      "source": [
        "class Animal:\n",
        "    def speak(self):\n",
        "        pass\n",
        "\n",
        "class Mammal:\n",
        "    def give_birth(self):\n",
        "        pass\n",
        "\n",
        "class Dog(Animal, Mammal):\n",
        "    def bark(self):\n",
        "        print(\"Woof!\")\n",
        "\n",
        "# Create an instance of the Dog class\n",
        "dog = Dog()\n",
        "\n",
        "# Access methods from both parent classes\n",
        "dog.speak()  # Output: Generic animal sound\n",
        "dog.give_birth()  # Output: Generic mammal birth sound\n",
        "dog.bark()  # Output: Woof!"
      ],
      "metadata": {
        "id": "pW6pph4TB6cL"
      },
      "execution_count": null,
      "outputs": []
    },
    {
      "cell_type": "markdown",
      "source": [
        "Qsn. What is the Method Resolution Order (MRO) in Python. How can you\n",
        "retrieve it programmatically?\n",
        "\n",
        "Ans. Method Resolution Order (MRO) in Python determines the order in which methods are searched for when an attribute is accessed on an object. It follows a depth-first, left-to-right traversal of the class hierarchy.\n",
        "\n",
        "To retrieve the MRO programmatically:"
      ],
      "metadata": {
        "id": "POiCk-h4CDbc"
      }
    },
    {
      "cell_type": "code",
      "source": [
        "class A:\n",
        "    pass\n",
        "\n",
        "class B(A):\n",
        "    pass\n",
        "\n",
        "class C(A):\n",
        "    pass\n",
        "\n",
        "class D(B, C):\n",
        "    pass\n",
        "\n",
        "print(D.__mro__)  # Output: (<class '__main__.D'>, <class '__main__.B'>, <class '__main__.C'>, <class '__main__.A'>, <class 'object'>)"
      ],
      "metadata": {
        "id": "TxRZWocTfA1C"
      },
      "execution_count": null,
      "outputs": []
    },
    {
      "cell_type": "markdown",
      "source": [
        "In this example,\n",
        "\n",
        "the MRO for class D is D, B, C, A, object. This means that when an attribute is accessed on an instance of D, the search starts in D, then moves to B, C, A, and finally to the built-in object class.\n",
        "\n",
        "Understanding MRO is crucial for:\n",
        "\n",
        "* Avoiding diamond-shaped inheritance problems: MRO helps prevent ambiguity in method resolution.\n",
        "* Customizing inheritance behavior: Using metaclasses, you can modify the MRO of a class.\n",
        "* Understanding how Python resolves method calls."
      ],
      "metadata": {
        "id": "QaUqqRtLfHnB"
      }
    },
    {
      "cell_type": "markdown",
      "source": [
        "Qsn. Create an abstract base class`Shape`with an abstract method`area()`. Then create two subclasses`Circle`and`Rectangle`that implement the`area()`method.\n",
        "\n",
        "Ans. Here's the Python code for an abstract base class Shape with an abstract method area(), and two subclasses Circle and Rectangle that implement the area() method:"
      ],
      "metadata": {
        "id": "7UNuMsbOfZvP"
      }
    },
    {
      "cell_type": "code",
      "source": [
        "from abc import ABC, abstractmethod\n",
        "\n",
        "class Shape(ABC):\n",
        "    @abstractmethod\n",
        "    def area(self):\n",
        "        pass\n",
        "\n",
        "class Circle(Shape):\n",
        "    def __init__(self, radius):\n",
        "        self.radius = radius\n",
        "\n",
        "    def area(self):\n",
        "        return 3.14159\n",
        " * self.radius * self.radius\n",
        "\n",
        "class Rectangle(Shape):\n",
        "    def __init__(self, length, width):\n",
        "        self.length = length\n",
        "        self.width = width\n",
        "\n",
        "    def area(self):\n",
        "        return self.length * self.width\n",
        "\n",
        "\n",
        "# Create instances of Circle and Rectangle\n",
        "circle = Circle(5)\n",
        "rectangle = Rectangle(4,\n",
        " 3)\n",
        "\n",
        "# Calculate and print their areas\n",
        "print(circle.area())\n",
        "print(rectangle.area())"
      ],
      "metadata": {
        "id": "qoEkBUMhOT9F"
      },
      "execution_count": null,
      "outputs": []
    },
    {
      "cell_type": "markdown",
      "source": [
        "Explanation:\n",
        "\n",
        "* Import ABC: The ABC (Abstract Base Class) module is imported to define abstract classes.\n",
        "* Define Shape class: The Shape class is declared as abstract using the @abstractmethod decorator. It has an abstract method area() that must be implemented by its subclasses.\n",
        "* Define Circle class: The Circle class inherits from Shape and implements the area() method to calculate the area of a circle.\n",
        "* Define Rectangle class: The Rectangle class inherits from Shape and implements the area() method to calculate the area of a rectangle.\n",
        "* Create instances: Instances of Circle and Rectangle are created.\n",
        "* Calculate and print areas: The area() method is called on each instance to calculate and print their respective areas.\n",
        "* This code demonstrates the use of abstract base classes and inheritance to create a hierarchy of shapes with different implementations of the area() method."
      ],
      "metadata": {
        "id": "i2xZHj-gOe9M"
      }
    },
    {
      "cell_type": "markdown",
      "source": [
        "Qsn. Demonstrate polymorphism by creating a function that can work with different shape objects to calculate and print their areas.\n",
        "\n",
        "Ans. Here's a Python program demonstrating polymorphism with a function that calculates and prints the areas of different shape objects:"
      ],
      "metadata": {
        "id": "c6JSBRPGOvrS"
      }
    },
    {
      "cell_type": "code",
      "source": [
        "class Shape:\n",
        "    def area(self):\n",
        "        pass\n",
        "\n",
        "class Circle(Shape):\n",
        "    def __init__(self, radius):\n",
        "        self.radius = radius\n",
        "\n",
        "    def area(self):\n",
        "        return 3.14159 * self.radius\n",
        " * self.radius\n",
        "\n",
        "class Rectangle(Shape):\n",
        "    def __init__(self, length, width):\n",
        "        self.length = length\n",
        "        self.width = width\n",
        "\n",
        "    def area(self):\n",
        "        return self.length * self.width\n",
        "\n",
        "\n",
        "def calculate_and_print_area(shape):\n",
        "    print(f\"The area of the shape is: {shape.area()}\")\n",
        "\n",
        "# Create instances of different shapes\n",
        "circle = Circle(5)\n",
        "rectangle = Rectangle(4, 3)\n",
        "\n",
        "# Call the function with different shape objects\n",
        "calculate_and_print_area(circle)\n",
        "calculate_and_print_area(rectangle)\n"
      ],
      "metadata": {
        "id": "RFbsaFETPdhn"
      },
      "execution_count": null,
      "outputs": []
    },
    {
      "cell_type": "markdown",
      "source": [
        "Explanation:\n",
        "\n",
        "* Define base class Shape: The Shape class acts as the base class, defining the area() method that must be implemented by its subclasses.\n",
        "* Define subclasses Circle and Rectangle: These subclasses inherit from Shape and implement their own area() methods to calculate the specific area for each shape.\n",
        "* Define function calculate_and_print_area: This function takes a Shape object as input and calls its area() method to calculate the area. It then prints the result.\n",
        "* Create instances: Instances of Circle and Rectangle are created.\n",
        "* Call the function: The calculate_and_print_area function is called with each shape object as an argument.\n",
        "\n",
        "This demonstrates polymorphism because the same function (calculate_and_print_area) can work with different shape objects, and the appropriate area() method is called based on the object's type at runtime."
      ],
      "metadata": {
        "id": "O9M4JGJaPimE"
      }
    },
    {
      "cell_type": "markdown",
      "source": [
        "Qsn. Implement encapsulation in a`BankAccount`class with private attributes for`balance`and`account_number`.Include methods for deposit,withdrawl,and balance inquiry."
      ],
      "metadata": {
        "id": "_X23C9trQDmU"
      }
    },
    {
      "cell_type": "code",
      "source": [
        "Ans.\n",
        "class BankAccount:\n",
        "    def __init__(self, account_number, initial_balance):\n",
        "        self.__account_number = account_number\n",
        "        self.__balance = initial_balance\n",
        "\n",
        "    def deposit(self, amount):\n",
        "        if amount > 0:\n",
        "            self.__balance += amount\n",
        "            print(f\"Deposited {amount}. New balance: {self.__balance}\")\n",
        "        else:\n",
        "            print(\"Invalid deposit amount.\")\n",
        "\n",
        "    def withdraw(self, amount):\n",
        "        if amount > 0 and amount <= self.__balance:\n",
        "            self.__balance -= amount\n",
        "            print(f\"Withdrew {amount}. New balance: {self.__balance}\")\n",
        "        else:\n",
        "            print(\"Invalid withdrawal amount or insufficient funds.\")\n",
        "\n",
        "    def get_balance(self):\n",
        "\n",
        "        print(f\"Your current balance is: {self.__balance}\")\n",
        "\n",
        "# Create an instance of the BankAccount class\n",
        "account = BankAccount(\"1234567890\", 1000)\n",
        "\n",
        "# Test the methods\n",
        "account.deposit(500)\n",
        "account.withdraw(200)\n",
        "account.get_balance()"
      ],
      "metadata": {
        "id": "NsQ6eAkqsbza"
      },
      "execution_count": null,
      "outputs": []
    },
    {
      "cell_type": "markdown",
      "source": [
        "Explanation:\n",
        "\n",
        "* Private attributes: The __account_number and __balance attributes are declared as private using double underscores, making them inaccessible from outside the class.\n",
        "* Methods: The deposit, withdraw, and get_balance methods provide controlled access to the account's balance.\n",
        "* Encapsulation: The class encapsulates the account's data and provides methods to interact with it, ensuring data integrity and preventing unauthorized access."
      ],
      "metadata": {
        "id": "c3-SKiegsjxt"
      }
    },
    {
      "cell_type": "markdown",
      "source": [
        "Qsn. Write a class that overrides the`__str__`and`__add__`magic methods.What will these methods allow you to do?\n",
        "\n",
        "Ans. Here's a Python class that overrides the __str__ and __add__ magic methods:"
      ],
      "metadata": {
        "id": "3lyEXhehstiV"
      }
    },
    {
      "cell_type": "code",
      "source": [
        "class Book:\n",
        "    def __init__(self, title, author, price):\n",
        "        self.title = title\n",
        "        self.author = author\n",
        "        self.price = price\n",
        "\n",
        "    def __str__(self):\n",
        "        return f\"{self.title} by {self.author}: ${self.price}\"\n",
        "\n",
        "    def\n",
        " __add__(self, other):\n",
        "        if not isinstance(other, Book):\n",
        "            raise TypeError(\"Can only add two Book objects\")\n",
        "        return Book(self.title + \" and \" + other.title, self.author, self.price + other.price)\n",
        "\n",
        "# Create two book objects\n",
        "book1 = Book(\"Python Crash Course\", \"Eric Matthes\", 35.99)\n",
        "book2 = Book(\"Automate the Boring Stuff with Python\", \"Al Sweigart\", 29.99)\n",
        "\n",
        "# Print the string representation of a book\n",
        "print(book1)  # Output: Python Crash Course by Eric Matthes: $35.99\n",
        "\n",
        "# Add two book objects\n",
        "combined_book = book1 + book2\n",
        "print(combined_book)  # Output: Python Crash Course and Automate the Boring Stuff with Python by Eric Matthes: $65.98\n"
      ],
      "metadata": {
        "id": "SvrM1YwDdC0y"
      },
      "execution_count": null,
      "outputs": []
    },
    {
      "cell_type": "markdown",
      "source": [
        "Explanation:\n",
        "\n",
        "* __str__ method: This method defines how the object should be represented as a string. When you print a Book object, the __str__ method is called.\n",
        "* __add__ method: This method defines how two Book objects should be added together. In this case, we create a new Book object with the combined titles, the same author, and the sum of the prices.\n",
        "* By overriding these magic methods, you can customize how your objects are represented as strings and how they behave when certain operators (like +) are applied to them.\n"
      ],
      "metadata": {
        "id": "-T8RH80qdNjf"
      }
    },
    {
      "cell_type": "markdown",
      "source": [
        "Qsn. Create a decorator that measures and print the execution time of function.\n",
        "\n",
        "Ans. Here's a Python decorator that measures and prints the execution time of a function:"
      ],
      "metadata": {
        "id": "Wsada4PldTgx"
      }
    },
    {
      "cell_type": "code",
      "source": [
        "import time\n",
        "\n",
        "def measure_time(func):\n",
        "  \"\"\"Decorator to measure the execution time of a function.\n",
        "\n",
        "  Args:\n",
        "    func: The function to measure.\n",
        "\n",
        "  Returns:\n",
        "    A decorated function that prints the execution time.\n",
        "  \"\"\"\n",
        "\n",
        "  def wrapper(*args, **kwargs):\n",
        "    start_time = time.time()\n",
        "    result = func(*args, **kwargs)\n",
        "    end_time = time.time()\n",
        "\n",
        "    execution_time = end_time - start_time\n",
        "    print(f\"Function {func.__name__} took {execution_time:.4f} seconds to execute.\")\n",
        "    return result\n",
        "\n",
        "  return wrapper\n",
        "\n",
        "# Example usage:\n",
        "@measure_time\n",
        "\n",
        "def my_function():\n",
        "  # Some long-running operation\n",
        "  for i in range(1000000):\n",
        "    pass\n",
        "\n",
        "my_function()"
      ],
      "metadata": {
        "id": "1oHyGL8vdwws"
      },
      "execution_count": null,
      "outputs": []
    },
    {
      "cell_type": "markdown",
      "source": [
        "This decorator works by wrapping the target function in a wrapper function. The wrapper function records the start time before calling the original function, records the end time after the function finishes, and calculates the execution time. It then prints the execution time and returns the result of the original function."
      ],
      "metadata": {
        "id": "Z7PQOYJpd2eW"
      }
    },
    {
      "cell_type": "markdown",
      "source": [
        "Qsn. Explain the concept of the Diamond Problem in multiple inheritance.How does Python resolve it ?\n",
        "\n",
        "Ans. The Diamond Problem arises in multiple inheritance when two classes inherit from a common ancestor class, and a new class subsequently inherits from both of those classes. This creates ambiguity about which method to call when accessing a method with the same name from the shared ancestor.\n",
        "\n",
        "Here's an illustration:"
      ],
      "metadata": {
        "id": "1AV0ld3Zd67F"
      }
    },
    {
      "cell_type": "code",
      "source": [
        "  A\n",
        "     / \\\n",
        "    B   C\n",
        "     \\ /\n",
        "      D"
      ],
      "metadata": {
        "id": "CpdGmo6lgOBL"
      },
      "execution_count": null,
      "outputs": []
    },
    {
      "cell_type": "markdown",
      "source": [
        "* Class D inherits from both B and C, which both inherit from A.\n",
        "* If A has a method do_something(), and both B and C override it, when you call d.do_something(), it's unclear which version (B's or C's) should be executed.\n",
        "\n",
        "Python's Resolution (MRO):\n",
        "\n",
        "* Python utilizes the concept of Method Resolution Order (MRO) to resolve the diamond problem. MRO defines the order in which Python searches for methods when there's a conflict.\n",
        "* MRO follows a depth-first, left-to-right search. In the example above, the MRO would be:"
      ],
      "metadata": {
        "id": "yKCx_PSTgP0I"
      }
    },
    {
      "cell_type": "code",
      "source": [
        "D.__mro__ = (D, B, C, A, object)"
      ],
      "metadata": {
        "id": "9fGwQ1fGgjHw"
      },
      "execution_count": null,
      "outputs": []
    },
    {
      "cell_type": "markdown",
      "source": [
        "* Python searches for the method first in D, then in B, then in C. It finds the overridden version in either B or C, depending on the order in which those classes appear in the MRO.\n",
        "\n",
        "How to Avoid the Diamond Problem:\n",
        "\n",
        "* Favor Composition over Inheritance: If a class needs to access functionality from another class, consider using composition (having the class as a member) instead of inheritance.\n",
        "* Explicit Method Calls: If inheritance is necessary, you can explicitly specify which class's method to call using ClassName.method_name(self).\n",
        "\n",
        "By understanding the diamond problem and MRO, you can avoid ambiguity and write more robust code when dealing with multiple inheritance in Python."
      ],
      "metadata": {
        "id": "JejoZ8RRgkT-"
      }
    },
    {
      "cell_type": "markdown",
      "source": [
        "Qsn. Write a class method that keeps track of the number of instances created from a class.\n",
        "\n",
        "Ans. Here's a Python class that uses a class attribute to keep track of the number of instances created:"
      ],
      "metadata": {
        "id": "3VTZflKag_qH"
      }
    },
    {
      "cell_type": "code",
      "source": [
        "class MyClass:\n",
        "  instances = 0\n",
        "\n",
        "  def __init__(self):\n",
        "    MyClass.instances += 1\n",
        "\n",
        "  def get_instances(cls):\n",
        "    return cls.instances\n",
        "\n",
        "# Create instances of MyClass\n",
        "obj1 = MyClass()\n",
        "obj2 = MyClass()\n",
        "obj3 = MyClass()\n",
        "\n",
        "# Print the number of instances\n",
        "print(MyClass.get_instances())  # Output: 3"
      ],
      "metadata": {
        "id": "9QgBEr9Gh0GJ"
      },
      "execution_count": null,
      "outputs": []
    },
    {
      "cell_type": "markdown",
      "source": [
        "Explanation:\n",
        "\n",
        "* Class attribute: The instances attribute is defined at the class level, meaning it's shared by all instances of the class.\n",
        "* Constructor: The __init__ method increments the instances attribute each time a new instance is created.\n",
        "* Class method: The get_instances method is a class method (decorated with @classmethod) that returns the current value of the instances attribute.\n",
        "\n",
        "This approach allows you to easily track the number of instances of a class without modifying the instances themselves."
      ],
      "metadata": {
        "id": "agAuV9PZh3wB"
      }
    },
    {
      "cell_type": "markdown",
      "source": [
        "Qsn. Implement a static method in a class that checks if a given year is a leap year.\n",
        "\n",
        "Ans. Here's a Python class with a static method to check if a given year is a leap year:"
      ],
      "metadata": {
        "id": "XKZzmMCwiHoz"
      }
    },
    {
      "cell_type": "code",
      "source": [
        "class Calendar:\n",
        "    @staticmethod\n",
        "    def is_leap_year(year):\n",
        "        \"\"\"Checks if a given year is a leap year.\n",
        "\n",
        "        Args:\n",
        "            year: The year to check.\n",
        "\n",
        "        Returns:\n",
        "            True if the year is a leap year, False otherwise.\n",
        "\n",
        "        \"\"\"\n",
        "\n",
        "        return (year % 4 == 0 and year % 100 != 0) or (year % 400 == 0)\n",
        "\n",
        "# Example usage:\n",
        "year = 2024\n",
        "if Calendar.is_leap_year(year):\n",
        "    print(f\"{year} is a leap year.\")\n",
        "else:\n",
        "    print(f\"{year} is not a leap year.\")\n"
      ],
      "metadata": {
        "id": "W3_0-gieihhn"
      },
      "execution_count": null,
      "outputs": []
    },
    {
      "cell_type": "markdown",
      "source": [
        "Explanation:\n",
        "\n",
        "* Define the Calendar class: This class will contain the static method for checking leap years.\n",
        "* Define the is_leap_year method: This method takes a year as input and returns True if it's a leap year, False otherwise.\n",
        "* Leap year condition: The method checks if the year is divisible by 4 but not by 100, or if it's divisible by 400. This is the rule for determining leap years in the Gregorian calendar.\n",
        "* Example usage: The code demonstrates how to use the is_leap_year method to check if a specific year is a leap year."
      ],
      "metadata": {
        "id": "OY1rjUERiygZ"
      }
    }
  ]
}